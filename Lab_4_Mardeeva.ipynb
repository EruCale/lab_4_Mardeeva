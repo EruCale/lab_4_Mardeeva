{
 "cells": [
  {
   "cell_type": "code",
   "execution_count": null,
   "id": "6615bd67-1020-463f-a8c4-ed4f64feef8b",
   "metadata": {},
   "outputs": [],
   "source": [
    "---\n",
    "title: 'Лабораторна робота №4. Логічні значення. Умовне виконання. Цикли'\n",
    "description:\n",
    "   Документ зроблено за допомогою [Quarto](https://quarto.org/)\n",
    "author: \"&copy; [<span style='color: blue;'>Мардєєва Діана </span>], 2024\"\n",
    "date: \"01.12.2024\"\n",
    "lang: ukr\n",
    "format:\n",
    "  html:\n",
    "    code-fold: true\n",
    "    toc: true # меню\n",
    "    toc_float: # спливаюче меню  \n",
    "      collapsed: true # авто\n",
    "      number_sections: true\n",
    "jupyter: python3\n",
    "---"
   ]
  },
  {
   "cell_type": "code",
   "execution_count": null,
   "id": "9d045013-859f-4734-850a-3a8716e502c0",
   "metadata": {},
   "outputs": [],
   "source": [
    "__Мета:__ _освоїти роботу з логічними змінними, операторами розгалуження та операторами циклів_"
   ]
  },
  {
   "cell_type": "code",
   "execution_count": null,
   "id": "72dd8ba6-6a04-42b9-b8fe-aebd784cd518",
   "metadata": {},
   "outputs": [],
   "source": [
    "### Завдання №1\n",
    "Використовуючи один з операторів порівняння в Python, напишіть просту дворядкову програму, яка приймає як вхідні дані параметр n, який є цілим числом, і друкує False, якщо n менше 100 і True, якщо n більше або дорівнює 100.\n",
    "Не створюйте жодних блоків if. Протестуйте свій код, використовуючи дані, надані нижче."
   ]
  },
  {
   "cell_type": "code",
   "execution_count": null,
   "id": "e7d78091-a658-41f6-b848-7dde4e67e49d",
   "metadata": {},
   "outputs": [],
   "source": [
    "n = int(input(\"Введіть число для першого завдання: \"))\n",
    "print(n >= 100)"
   ]
  },
  {
   "cell_type": "code",
   "execution_count": null,
   "id": "2027e504-019a-426a-a4a0-3116292791d4",
   "metadata": {},
   "outputs": [],
   "source": [
    "Введіть число для першого завдання: >? 238\n",
    "True\n",
    "Введіть число для першого завдання: >? 45\n",
    "False"
   ]
  },
  {
   "cell_type": "code",
   "execution_count": null,
   "id": "1fa962e3-a5f0-4937-b7d8-631cb2224905",
   "metadata": {},
   "outputs": [],
   "source": [
    "### Завдання №2\n",
    "Написати програму визначення найбільшого з двох дійсних чисел, використовуючи констуркцію if-else."
   ]
  },
  {
   "cell_type": "code",
   "execution_count": null,
   "id": "8852ad4d-8f61-46ef-a5c8-d61a4630be30",
   "metadata": {},
   "outputs": [],
   "source": [
    "a = float(input(\"Введіть перше число для другого завдання: \"))\n",
    "b = float(input(\"Введіть друге число для другого завдання: \"))\n",
    "if a > b:\n",
    "    print(a, \"більше\")\n",
    "else:\n",
    "    print(b, \"більше\")"
   ]
  },
  {
   "cell_type": "code",
   "execution_count": null,
   "id": "3a175924-1317-442b-861a-a0a9719f9a18",
   "metadata": {},
   "outputs": [],
   "source": [
    "Введіть перше число для другого завдання: >? 3.18\n",
    "Введіть друге число для другого завдання: >? 1.89\n",
    "3.18 більше"
   ]
  },
  {
   "cell_type": "code",
   "execution_count": null,
   "id": "146df6ee-3c3e-41d9-ae7f-57fbadb71c1b",
   "metadata": {},
   "outputs": [],
   "source": [
    "### Завдання №3\n",
    "Спатифіллум, більш відомий як лілія світу або біле вітрило, є одним з найпопулярніших кімнатних рослин, що фільтрують шкідливі токсини з повітря. Деякі з токсинів, які він нейтралізує, включають бензол, формальдегід та аміак.\n",
    "\n",
    "Уявіть, що ваша комп'ютерна програма любить ці рослини. Щоразу, коли вона отримує введення у вигляді слова Spathiphyllum, вона мимоволі вигукує в консоль наступний рядок: \"Spathiphyllum is the best plant ever!\"\n",
    "\n",
    "\n",
    "Напишіть програму, яка використовує концепцію умовного виконання, приймає рядок як вхідні дані та:\n",
    "\n",
    "* виводить на екран пропозицію \"Yes - Spathiphyllum is the best plant ever!\", якщо введений рядок - \"Spathiphyllum\" (верхній регістр)\n",
    "* друкує \"No, I want a big Spathiphyllum!\", якщо введений рядок - \"spathiphyllum\" (у нижньому регістрі)\n",
    "виводить \"Spathiphyllum! Not [input]!\" в іншому випадку.  \n",
    "__Примітка.__ [input] - це рядок, прийнятий як вхідний.\n"
   ]
  },
  {
   "cell_type": "code",
   "execution_count": null,
   "id": "29835b8f-ab2a-45d0-aecf-13ee062920b1",
   "metadata": {},
   "outputs": [],
   "source": [
    "plant = input(\"Go on, gimme that plant name: \")\n",
    "if plant == \"Spathiphyllum\":\n",
    "    print(\"HOOOLYY YEEEAAAHHH\")\n",
    "elif plant == \"spathiphyllum\":\n",
    "    print(\"Still good, BUT I NEED BIGGER\")\n",
    "else:\n",
    "    print (\"R U kidding? I SAID TYPE THE Spathiphyllum NOT THE\", plant)"
   ]
  },
  {
   "cell_type": "code",
   "execution_count": null,
   "id": "7fbcc119-bf82-4275-8fb8-74ae78ce98a0",
   "metadata": {},
   "outputs": [],
   "source": [
    "Go on, gimme that plant name: >? spathiphyllum\n",
    "Still good, BUT I NEED BIGGER\n",
    "Go on, gimme that plant name: >? Spathiphyllum\n",
    "HOOOLYY YEEEAAAHHH\n",
    "Go on, gimme that plant name: >? pelargonium\n",
    "R U kidding? I SAID TYPE THE Spathiphyllum NOT THE pelargonium"
   ]
  },
  {
   "cell_type": "code",
   "execution_count": null,
   "id": "1f5e5799-d263-4dfe-8cad-4ef58f83f753",
   "metadata": {},
   "outputs": [],
   "source": [
    "### Завдання №4\n",
    "Жила-була земля -- земля молока та меду, населена щасливими та заможними людьми. Звісно, люди платили податки – їх щастя мало межі. Найважливіший податок, так званий податок на доходи фізичних осіб (скорочено ПДФО), повинен був сплачуватись один раз на рік та оцінювався за таким правилом:\n",
    "\n",
    "* якщо дохід громадянина не перевищував 85528 талерів, податок становив 18% від доходу мінус 556 талерів і 2 центи (це було те, що вони називали податковими пільгами)  \n",
    "* якщо дохід був вищим за цю суму, податок становив 14 839 талерів 2 центи плюс 32% надлишку понад 85 528 талерів.  \n",
    "Ваше завдання – написати калькулятор податків.\n",
    "\n",
    "Він повинен приймати одне значення з плаваючою комою: дохід.\n",
    "Потім він має вивести розрахований податок, заокруглений до повних талерів. Є функція з ім'ям `ound()`, яка виконуватиме заокруглення за вас -- ви знайдете її в скелетному коді нижче.  \n",
    "__Примітка:__ ця щаслива країна ніколи не повертала своїм громадянам грошей. Якщо розрахований податок був меншим за нуль, це означало б тільки повну відсутність податку (податок дорівнював нулю). Врахуйте це під час розрахунків.\n"
   ]
  },
  {
   "cell_type": "code",
   "execution_count": null,
   "id": "3957c34e-dc3a-408f-acb4-359f0b67be9d",
   "metadata": {},
   "outputs": [],
   "source": [
    "income = float(input(\"Отже, зізнавайся, скільки грошей ти заробив, веселий молочник??? \"))\n",
    "if income < 85528:\n",
    "    tax = (income/100*18) - 556.2\n",
    "else:\n",
    "    tax = (income/100*32) + 14839.2\n",
    "if tax > 0:\n",
    "    print(\"Отже в скарбницю з тебе \", round(tax, 2))\n",
    "else:\n",
    "    print(\"Здається... брати з тебе нічого\")"
   ]
  },
  {
   "cell_type": "code",
   "execution_count": null,
   "id": "26992970-1e57-4052-b533-12aafc945bdf",
   "metadata": {},
   "outputs": [],
   "source": [
    "Отже, зізнавайся, скільки грошей ти заробив, веселий молочник??? >? 1367\n",
    "Здається... брати з тебе нічого\n",
    "Отже, зізнавайся, скільки грошей ти заробив, веселий молочник??? >? 34085\n",
    "Отже в скарбницю з тебе  5579.1"
   ]
  },
  {
   "cell_type": "code",
   "execution_count": null,
   "id": "fbbe8c75-5c80-4ed4-b0f7-654a4bf45fd2",
   "metadata": {},
   "outputs": [],
   "source": [
    "### Завдання №5\n",
    "Як ви, напевно, знаєте, з деяких астрономічних причин роки можуть бути високосними або звичайними. Перші тривають 366 днів, а другі – 365 днів.\n",
    "\n",
    "З моменту введення григоріанського календаря (1582) для визначення року використовується наступне правило:\n",
    "\n",
    "* якщо номер року не ділиться на чотири, це звичайний рік;\n",
    "* в іншому випадку, якщо номер року не ділиться на 100, це високосний рік;\n",
    "* в іншому випадку, якщо номер року не ділиться на 400, це звичайний рік;\n",
    "* інакше це високосний рік.  "
   ]
  },
  {
   "cell_type": "code",
   "execution_count": null,
   "id": "ddd55322-6d92-4af0-bcc2-50388a579197",
   "metadata": {},
   "outputs": [],
   "source": [
    "year = int(input(\"Введіть рік для перевірки: \"))\n",
    "if year < 1582:\n",
    "    print(\"Цей рік взагалі з Юліанського календаря\")\n",
    "elif year % 4 == 0:\n",
    "    print(\"Це високосний рік\")\n",
    "else:\n",
    "    print(\"Це звичайний рік\")"
   ]
  },
  {
   "cell_type": "code",
   "execution_count": null,
   "id": "6c74cf68-788d-4533-b33f-98242fd1267a",
   "metadata": {},
   "outputs": [],
   "source": [
    "Введіть рік для перевірки: >? 2000\n",
    "Це високосний рік\n",
    "Введіть рік для перевірки: >? 2015\n",
    "Це звичайний рік\n",
    "Введіть рік для перевірки: >? 1999\n",
    "Це звичайний рік\n",
    "Введіть рік для перевірки: >? 1996\n",
    "Це високосний рік\n",
    "Введіть рік для перевірки: >? 1580\n",
    "Цей рік взагалі з Юліанського календаря"
   ]
  },
  {
   "cell_type": "code",
   "execution_count": null,
   "id": "973d1485-94e0-4639-b1fb-fb642f1c425d",
   "metadata": {},
   "outputs": [],
   "source": [
    "### Завдання №6\n",
    "Молодший чарівник вибрав таємне число. Він сховав його в змінну з ім'ям `secret_number`. Він хоче, щоб кожен, хто запускає його програму, грав у гру _Вгадай секретний номер_ і вгадав, яке число він вибрав для них. Ті, хто не вгадає число, назавжди застрянуть у нескінченній петлі! На жаль, він не знає, як завершити код.\n",
    "\n",
    "Ваше завдання допомогти фокуснику доповнити код у редакторі таким чином, щоб код:\n",
    "\n",
    "* попросив користувача ввести ціле число;\n",
    "* використовувавши цикл `while`;\n",
    "* перевірити, чи включає введене користувачем число з числом, вибраним фокусником. Якщо число, обране користувачем, відрізняється від секретного числа чарівника, користувач повинен побачити повідомлення `\"Ха-ха! Ви застрягли у моїй петлі!\"` і отримати запит на повторне введення числа. Якщо число, введене користувачем, співпадає з числом, вибраним фокусником, число має бути надруковане на екрані, і фокусник повинен вимовити наступне слово: `«Молодець, магле! Тепер ти вільний»`. \n",
    "\n",
    "Чарівник розраховує на Вас! Не розчаровуйте його.\n",
    "\n",
    "\n",
    "ДОДАТКОВА ІНФОРМАЦІЯ\n",
    "\n",
    "До речі, подивитесь на функцію `print()`. Те, як ми це використовували тут, називається багаторядковим друком. Ви можете використовувати три кавички для друку рядка в кількох рядках, щоб текст був легшим для читання, або для створення спеціального текстового дизайну. Поекспериментуйте з цим."
   ]
  },
  {
   "cell_type": "code",
   "execution_count": null,
   "id": "7dacf28a-1d51-4ef4-9726-b85d96eae838",
   "metadata": {},
   "outputs": [],
   "source": [
    "secretnumber = 17\n",
    "print(\n",
    "\"\"\"\n",
    "+======================================+\n",
    "| Welcome to WHITE SPACE!              |\n",
    "| You`ve been living here              |\n",
    "| for as long, as You can remember.    |\n",
    "| To escape You just need to guess     |\n",
    "| the correct SECRET NUMBER            |\n",
    "| So what`s Your answer?               |\n",
    "+======================================+\n",
    "\"\"\")\n",
    "while True:\n",
    "    guess = int(input())\n",
    "    if guess == secretnumber:\n",
    "        print(\n",
    "            \"You managed to escape WHITE SPACE! Your reward is 50 CLAMS\"\n",
    "        )\n",
    "        break\n",
    "    else:\n",
    "        print(\"WRONG! Try again^^\")"
   ]
  },
  {
   "cell_type": "code",
   "execution_count": null,
   "id": "7f46bf1a-e034-404f-a3ce-ab9e91f6a06d",
   "metadata": {},
   "outputs": [],
   "source": [
    "17\n",
    "You managed to escape WHITE SPACE! Your reward is 50 CLAMS\n",
    "45\n",
    "WRONG! Try again^^"
   ]
  },
  {
   "cell_type": "code",
   "execution_count": null,
   "id": "71f03519-c7c2-401a-9f58-4f46ab8d755f",
   "metadata": {},
   "outputs": [],
   "source": [
    "### Завдання №7 \n",
    "Ви знаєте, що таке Міссісіпі? Ну, це назва одного зі штатів та річок у Сполучених Штатах. Довжина річки Міссісіпі становить близько 2340 миль, що робить її другою за довжиною річкою у Сполучених Штатах (найдовшою з них є річка Міссурі). Це так багато, що одній краплі води потрібно 90 днів, щоб пройти весь її шлях!\n",
    "\n",
    "Слово Міссісіпі також використовується для дещо іншої мети: для рахунку Міссісіпі.\n",
    "\n",
    "Якщо ви не знайомі з цією фразою, ми можемо пояснити вам, що вона означає: вона використовується для підрахунку секунд.\n",
    "\n",
    "Ідея полягає в тому, що додавання слова Міссісіпі до числа при підрахунку секунд вголос змушує рахунок бути хронологічно точніше, і, отже, вимова \"один Міссісіпі, два Міссісіпі, три Міссісіпі\" займе приблизно три секунди! Рахунок Міссісіпі часто використовують діти, які грають у хованки, щоб переконатися, що той, хто шукає чесно, підраховує час.\n",
    "\n",
    "Ваше завдання тут дуже просте: напишіть програму, яка використовує цикл `for` для «рахунку Міссісіпі» до п'яти. Порахувавши до п'яти, програма повинна вивести на екран фінальне повідомлення `\"Ready or not, here I come!\"`\n",
    "\n",
    "Використовуйте код, який ми надали у редакторі.\n",
    "\n",
    "ДОДАТКОВА ІНФОРМАЦІЯ\n",
    "\n",
    "Зверніть увагу, що код редактора містить два елементи, які можуть бути наразі вам не зовсім зрозумілі: оператор `import time` і метод `sleep()`. Ми незабаром про них поговоримо.\n",
    "\n",
    "Наразі ми просто хотіли, щоб ви знали, що ми імпортували модуль `time` і використовували метод `sleep()` для припинення виконання кожної наступної функції `print()` всередині циклу `for` на одну секунду, щоб повідомлення, яке виводиться на консоль, було схоже на фактичний підрахунок."
   ]
  },
  {
   "cell_type": "code",
   "execution_count": null,
   "id": "353c3968-fd5d-4b0f-81f2-85338e2be498",
   "metadata": {},
   "outputs": [],
   "source": [
    "import time\n",
    "for i in range(1, 6):\n",
    "    print(i, \"Mississippi\")\n",
    "    time.sleep(1)\n",
    "    if i == 5:\n",
    "        print(\"Ready or not, here I come!\")"
   ]
  },
  {
   "cell_type": "code",
   "execution_count": null,
   "id": "529d0558-229b-4b2a-97a7-63d5c8e6f6ea",
   "metadata": {},
   "outputs": [],
   "source": [
    "1 Mississippi\n",
    "2 Mississippi\n",
    "3 Mississippi\n",
    "4 Mississippi\n",
    "5 Mississippi\n",
    "Ready or not, here I come!"
   ]
  },
  {
   "cell_type": "code",
   "execution_count": null,
   "id": "91f21da3-b66e-4445-81d4-d3620ed64754",
   "metadata": {},
   "outputs": [],
   "source": [
    "### Завдання №8\n",
    "Оператор `break` використовується для завершення/виходу з циклу.\n",
    "\n",
    "Розробте програму, яка використовує цикл `while` і постійно просить користувача ввести слово, якщо користувач не вводить `\"chupacabra\"` як секретне вихідне слово, і в цьому випадку повідомлення `\"You've successfully left the loop.\"` має бути виведений на екран, а цикл має завершитись.\n",
    "\n",
    "Не друкуйте жодне із введених користувачем слів. Використовуйте концепцію умовного виконання та інструкцію `break`."
   ]
  },
  {
   "cell_type": "code",
   "execution_count": null,
   "id": "7053f18b-940e-4a4b-8eca-90b8e3d7170e",
   "metadata": {},
   "outputs": [],
   "source": [
    "secretword = \"chupacabra\"\n",
    "while True:\n",
    "    word = input(\"Soo... here we go again. Type the word and let`see can You guess: \")\n",
    "    if word == secretword:\n",
    "        print(\n",
    "            \"You`ve managed to quit my beautiful endless loop of word guessing. Okay FINE! I`ll let You go...\"\n",
    "        )\n",
    "        break"
   ]
  },
  {
   "cell_type": "code",
   "execution_count": null,
   "id": "666bac2e-6804-49be-b007-d0306464fc8e",
   "metadata": {},
   "outputs": [],
   "source": [
    "Soo... here we go again. Type the word and let`see can You guess: >? chupacabra\n",
    "You`ve managed to quit my beautiful endless loop of word guessing. Okay FINE! I`ll let You go..."
   ]
  },
  {
   "cell_type": "code",
   "execution_count": null,
   "id": "eebd6fa5-b87f-48ff-b38d-375925812f97",
   "metadata": {},
   "outputs": [],
   "source": [
    "### Завдання №9\n",
    "Оператор `continue` використовується для пропуску поточного блоку та переходу до наступної ітерації без виконання операторів усередині циклу.\n",
    "\n",
    "Його можна використовувати з циклами `while` та `for`.\n",
    "\n",
    "Ваше завдання тут особливе: Ви повинні створити пожирача голосних! Напишіть програму, яка використовує:\n",
    "\n",
    "* цикл `for`;\n",
    "* концепцію умовного виконання (`if-elif-else`)\n",
    "* оператор `continue`.  \n",
    "\n",
    "Ваша програма повинна:\n",
    "\n",
    "* попросити користувача ввести слово;\n",
    "* використовувати `user_word = user_word.upper()`, щоб перетворити слово, введене користувачем, у верхній регістр; ми  поговоримо про рядкові методи та метод `upper()` у наступних лекціях;\n",
    "* використовуйте умовне виконання та оператор `continue`, щоб \"з'їсти\" наступні голосні `A`, `E`, `I`, `O`, `U` у введеному слові;\n",
    "* виведіть на екран нез'їдені літери, кожну в окремому рядку."
   ]
  },
  {
   "cell_type": "code",
   "execution_count": null,
   "id": "f10b6daa-6459-4475-80d0-f2b05c669b75",
   "metadata": {},
   "outputs": [],
   "source": [
    "userword = input(\"Type your word for VOWEL EATER to eat vowels: \")\n",
    "userword = userword.upper()\n",
    "print(\"So now You`re left with this: \")\n",
    "for letter in userword:\n",
    "    if letter in ('A', 'E', 'I', 'O', 'U'):\n",
    "        continue\n",
    "    print(letter)"
   ]
  },
  {
   "cell_type": "code",
   "execution_count": null,
   "id": "6f3b4387-3a8f-4a0a-8d59-6165b89081c7",
   "metadata": {},
   "outputs": [],
   "source": [
    "Type your word for VOWEL EATER to eat vowels: >? userword\n",
    "So now You`re left with this: \n",
    "S\n",
    "R\n",
    "W\n",
    "R\n",
    "D"
   ]
  },
  {
   "cell_type": "code",
   "execution_count": null,
   "id": "6aaa1e2a-b8c8-43e0-9ff0-45b390c2781c",
   "metadata": {},
   "outputs": [],
   "source": [
    "Type your word for VOWEL EATER to eat vowels: >? Gregory\n",
    "So now You`re left with this: \n",
    "G\n",
    "R\n",
    "G\n",
    "R\n",
    "Y"
   ]
  },
  {
   "cell_type": "code",
   "execution_count": null,
   "id": "4ec40823-bcdc-462b-a760-ce4b10bd4b88",
   "metadata": {},
   "outputs": [],
   "source": [
    "### Завдання №10\n",
    "Ваше завдання тут ще особливіше, ніж раніше: Ви повинні переробити (потворного) пожирача голосних із попереднього завдання і створити кращого, покращеного (красивого) пожирача голосних! Напишіть програму, яка використовує:\n",
    "\n",
    "* цикл `for`;\n",
    "* концепцію умовного виконання (`if-elif-else`)\n",
    "* оператор `continue`.\n",
    "\n",
    "Ваша програма повинна:\n",
    "\n",
    "* попросити користувача ввести слово;\n",
    "* використовувати `user_word = user_word.upper()`, щоб перетворити слово, введене користувачем, у верхній регістр; * використовувати умовне виконання та оператор `continue` , щоб \"з'їсти\" наступні голосні `A, E, I, O, U` від введеного слова;\n",
    "* присвоїти нез'їдені літери змінної `word_without_vowels` та вивести змінну на екран.\n",
    "\n",
    "Подивіться код нижче. Ми створили `word_without_vowels` і надали йому порожній рядок. Використовуйте операцію конкатенації, щоб попросити Python об'єднати вибрані літери у довший рядок у наступних ітераціях циклу та призначити її змінною `word_without_vowels`."
   ]
  },
  {
   "cell_type": "code",
   "execution_count": null,
   "id": "e1546d34-907d-43db-a8b3-580634f04e5d",
   "metadata": {},
   "outputs": [],
   "source": [
    "userword = input(\"Type your word again for VOWEL EATER II to eat vowels: \")\n",
    "userword = userword.upper()\n",
    "wordwithoutvowels = \"\"\n",
    "for letter in userword:\n",
    "    if letter in ('A', 'E', 'I', 'O', 'U'):\n",
    "        continue\n",
    "    wordwithoutvowels += letter\n",
    "print(\"So now You`re left with this: \", wordwithoutvowels)"
   ]
  },
  {
   "cell_type": "code",
   "execution_count": null,
   "id": "0539508b-7ed8-4cb9-95c1-5df41031de32",
   "metadata": {},
   "outputs": [],
   "source": [
    "Type your word again for VOWEL EATER II to eat vowels: >? abstemious\n",
    "So now You`re left with this:  BSTMS\n",
    "Type your word again for VOWEL EATER II to eat vowels: >? Gregory\n",
    "So now You`re left with this:  GRGRY    "
   ]
  },
  {
   "cell_type": "code",
   "execution_count": null,
   "id": "74ed35f8-f3b9-4256-90fb-7bad91e311d1",
   "metadata": {},
   "outputs": [],
   "source": [
    "### Завдання 11\n",
    "Послухайте цю історію: хлопчик та його батько, програміст, грають із дерев'яними кубиками. Вони будують піраміду (рис. 1).\n",
    "\n",
    "Їхня піраміда трохи дивна, тому що насправді це стіна у формі піраміди -- вона плоска. Піраміда складається за одним простим принципом: кожен нижній шар містить на один блок більше, ніж шар вище.\n",
    "\n",
    "На рис. 1 показано правило, що використовується будівельниками:\n",
    "\n",
    "![Знімок екрана 2024-10-03 160049.png](attachment:b1ffdb28-4be7-4e0b-8535-fec512e3e97c.png)\n",
    "\n",
    "Ваше завдання – написати програму, яка зчитує кількість блоків, що є у будівельників, та виводить висоту піраміди, яку можна побудувати з цих блоків.\n",
    "\n",
    "__Примітка:__ висота вимірюється кількістю повністю завершених шарів –- якщо будівельники не мають достатньої кількості блоків та не можуть завершити наступний шар, вони негайно закінчують свою роботу.\n"
   ]
  },
  {
   "cell_type": "code",
   "execution_count": null,
   "id": "106410d7-17b0-4cbc-a7ec-f6ed26095a3a",
   "metadata": {},
   "outputs": [],
   "source": [
    "blocks = int(input(\"Введіть кількість блоків піраМММіди: \"))\n",
    "height = 0\n",
    "currentlevelblocks = 1\n",
    "while blocks >= currentlevelblocks:\n",
    "    blocks -= currentlevelblocks\n",
    "    height += 1\n",
    "    currentlevelblocks += 1\n",
    "print(f\"Кількість поверхів: {height}\")"
   ]
  },
  {
   "cell_type": "code",
   "execution_count": null,
   "id": "396b74d3-e61f-4ec6-9ff5-c8c29273d52c",
   "metadata": {},
   "outputs": [],
   "source": []
  },
  {
   "cell_type": "code",
   "execution_count": null,
   "id": "4286684a-2ceb-4635-93a2-04af821cf221",
   "metadata": {},
   "outputs": [],
   "source": [
    "### Завдання №12\n",
    "1937 року німецький математик Лотар Коллатц сформулював інтригуючу гіпотезу (вона досі не доведена), яку можна описати так:\n",
    "\n",
    "* візьміть будь-яке невід'ємне та ненульове ціле число та назвіть його `c0`;\n",
    "* якщо воно парне, обчисліть нове `c0` як `c0÷2`;\n",
    "* в іншому випадку, якщо воно непарне, висиліть нове `c0 `як `3 × c0 + 1`;\n",
    "* якщо `c0 ≠ 1`, поверніться до пункту 2.\n",
    "\n",
    "Гіпотеза свідчить, що незалежно від початкового значення `c0` воно завжди дорівнюватиме `1`.\n",
    "\n",
    "Звичайно, використання комп'ютера для доведення гіпотези для будь-якого натурального числа -- надзвичайно складне завдання (для цього може знадобитися навіть штучний інтелект), але ви можете використовувати Python для перевірки деяких окремих чисел. Можливо, Ви навіть знайдете те, що спростує гіпотезу.\n",
    "\n",
    "\n",
    "Напишіть програму, яка зчитує одне натуральне число і виконує вказані вище кроки до тих пір, поки `c0` залишається відмінним від `1`. Ми також хочемо, щоб ви підрахували кроки, необхідні для досягнення мети. Ваш код також повинен виводити усі проміжні значення `c0`.\n",
    "\n",
    "Підказка: найважливіша частина проблеми –- як перетворити ідею Коллатца на цикл `while` – це ключ до успіху."
   ]
  },
  {
   "cell_type": "code",
   "execution_count": null,
   "id": "bf2f2626-dd98-4e15-b419-d7d370502c7a",
   "metadata": {},
   "outputs": [],
   "source": [
    "count = 0\n",
    "col = int(input(\"Введіть своє число для алгоритму Коллатца: \"))\n",
    "while col != 1:\n",
    "    if col % 2 == 0:\n",
    "        col = col // 2\n",
    "    else:\n",
    "        col = col * 3 + 1\n",
    "    print(col)\n",
    "    count = count + 1\n",
    "print(count, \"Кроків\")"
   ]
  },
  {
   "cell_type": "code",
   "execution_count": null,
   "id": "676fd0a0-3d40-4e23-af5f-c4c5adcba9de",
   "metadata": {},
   "outputs": [],
   "source": [
    "Введіть своє число для алгоритму Коллатца: >? 15\n",
    "46\n",
    "23\n",
    "70\n",
    "35\n",
    "106\n",
    "53\n",
    "160\n",
    "80\n",
    "40\n",
    "20\n",
    "10\n",
    "5\n",
    "16\n",
    "8\n",
    "4\n",
    "2\n",
    "1\n",
    "17 Кроків"
   ]
  },
  {
   "cell_type": "code",
   "execution_count": null,
   "id": "6430016f-91f7-450b-9b6c-b34bc10f18ed",
   "metadata": {},
   "outputs": [],
   "source": [
    "Введіть своє число для алгоритму Коллатца: >? 1023\n",
    "3070\n",
    "1535\n",
    "4606\n",
    "2303\n",
    "6910\n",
    "3455\n",
    "10366\n",
    "5183\n",
    "15550\n",
    "7775\n",
    "23326\n",
    "11663\n",
    "34990\n",
    "17495\n",
    "52486\n",
    "26243\n",
    "78730\n",
    "39365\n",
    "118096\n",
    "59048\n",
    "29524\n",
    "14762\n",
    "7381\n",
    "22144\n",
    "11072\n",
    "5536\n",
    "2768\n",
    "1384\n",
    "692\n",
    "346\n",
    "173\n",
    "520\n",
    "260\n",
    "130\n",
    "65\n",
    "196\n",
    "98\n",
    "49\n",
    "148\n",
    "74\n",
    "37\n",
    "112\n",
    "56\n",
    "28\n",
    "14\n",
    "7\n",
    "22\n",
    "11\n",
    "34\n",
    "17\n",
    "52\n",
    "26\n",
    "13\n",
    "40\n",
    "20\n",
    "10\n",
    "5\n",
    "16\n",
    "8\n",
    "4\n",
    "2\n",
    "1\n",
    "62 Кроків"
   ]
  },
  {
   "cell_type": "code",
   "execution_count": null,
   "id": "1a455512-52ac-498e-91a6-c79c627dd960",
   "metadata": {},
   "outputs": [],
   "source": [
    "## Контрольні запитання"
   ]
  },
  {
   "cell_type": "code",
   "execution_count": null,
   "id": "fa269917-37a5-4410-be53-451a7da46609",
   "metadata": {},
   "outputs": [],
   "source": [
    "1. Який вивод наступного фрагмента?"
   ]
  },
  {
   "cell_type": "code",
   "execution_count": null,
   "id": "071bafa3-c563-4e47-9e76-6b996e032fac",
   "metadata": {},
   "outputs": [],
   "source": [
    "x = 5\n",
    "y = 10\n",
    "z = 8\n",
    "print(x>y)\n",
    "print(y>z)\n",
    "x, y, z = 5, 10, 8"
   ]
  },
  {
   "cell_type": "code",
   "execution_count": null,
   "id": "33ae8315-4bca-4feb-a560-87d90b008bd1",
   "metadata": {},
   "outputs": [],
   "source": [
    "False\n",
    "True"
   ]
  },
  {
   "cell_type": "code",
   "execution_count": null,
   "id": "e2279f1a-2c17-4d6b-9db4-b984f50ccc9c",
   "metadata": {},
   "outputs": [],
   "source": [
    "2. Який вивод наступного фрагмента?"
   ]
  },
  {
   "cell_type": "code",
   "execution_count": null,
   "id": "8a9c32ad-78ac-49c6-b319-655e00d29175",
   "metadata": {},
   "outputs": [],
   "source": [
    "x, y, z = 5, 10, 8\n",
    "print(x > z)\n",
    "print ((y - 5) == x)"
   ]
  },
  {
   "cell_type": "code",
   "execution_count": null,
   "id": "d7a8cd8b-f6e9-47d5-b17d-1beaaf396cd7",
   "metadata": {},
   "outputs": [],
   "source": [
    "False\n",
    "True"
   ]
  },
  {
   "cell_type": "code",
   "execution_count": null,
   "id": "a19e1e06-c15f-4982-83d8-d28a927eaf2d",
   "metadata": {},
   "outputs": [],
   "source": [
    "3. Який вивод наступного фрагмента?"
   ]
  },
  {
   "cell_type": "code",
   "execution_count": null,
   "id": "a395be2b-4987-434d-80e8-1c8b85f87e97",
   "metadata": {},
   "outputs": [],
   "source": [
    "x, y, z = 5, 10, 8\n",
    "x, y, z = z, y, x\n",
    "print(x > z)\n",
    "print ((y - 5) == x)"
   ]
  },
  {
   "cell_type": "code",
   "execution_count": null,
   "id": "b7eecd3f-0ae6-4120-928a-ec56070e6d91",
   "metadata": {},
   "outputs": [],
   "source": [
    "True\n",
    "False"
   ]
  },
  {
   "cell_type": "code",
   "execution_count": null,
   "id": "e289ad82-3bde-450f-adf0-26a5621357a1",
   "metadata": {},
   "outputs": [],
   "source": [
    "## References"
   ]
  },
  {
   "cell_type": "code",
   "execution_count": null,
   "id": "b8aea93e-271b-4190-98b9-d3cdbf0e3c09",
   "metadata": {},
   "outputs": [],
   "source": [
    "1. Методичка\n",
    "2. Лекція"
   ]
  }
 ],
 "metadata": {
  "kernelspec": {
   "display_name": "Python 3 (ipykernel)",
   "language": "python",
   "name": "python3"
  },
  "language_info": {
   "codemirror_mode": {
    "name": "ipython",
    "version": 3
   },
   "file_extension": ".py",
   "mimetype": "text/x-python",
   "name": "python",
   "nbconvert_exporter": "python",
   "pygments_lexer": "ipython3",
   "version": "3.12.4"
  }
 },
 "nbformat": 4,
 "nbformat_minor": 5
}
